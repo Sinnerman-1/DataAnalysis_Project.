{
 "cells": [
  {
   "cell_type": "code",
   "execution_count": 1,
   "metadata": {},
   "outputs": [],
   "source": [
    "import pandas as pd"
   ]
  },
  {
   "cell_type": "code",
   "execution_count": 2,
   "metadata": {},
   "outputs": [],
   "source": [
    "customers = pd.read_csv('Customers.csv')       # Replace with the actual path to the Customers dataset\n",
    "products = pd.read_csv('Products.csv')         # Replace with the actual path to the Products dataset\n",
    "transactions = pd.read_csv('Transactions.csv') # Replace with the actual path to the Transactions dataset"
   ]
  },
  {
   "cell_type": "code",
   "execution_count": 3,
   "metadata": {},
   "outputs": [
    {
     "name": "stdout",
     "output_type": "stream",
     "text": [
      "  TransactionID CustomerID ProductID      TransactionDate  Quantity  \\\n",
      "0        T00001      C0199      P067  2024-08-25 12:38:23         1   \n",
      "1        T00112      C0146      P067  2024-05-27 22:23:54         1   \n",
      "2        T00166      C0127      P067  2024-04-25 07:38:55         1   \n",
      "3        T00272      C0087      P067  2024-03-26 22:55:37         2   \n",
      "4        T00363      C0070      P067  2024-03-21 15:10:10         3   \n",
      "\n",
      "   TotalValue   Price     CustomerName         Region  SignupDate  \n",
      "0      300.68  300.68   Andrea Jenkins         Europe  2022-12-03  \n",
      "1      300.68  300.68  Brittany Harvey           Asia  2024-09-04  \n",
      "2      300.68  300.68  Kathryn Stevens         Europe  2024-04-04  \n",
      "3      601.36  300.68  Travis Campbell  South America  2024-04-11  \n",
      "4      902.04  300.68    Timothy Perez         Europe  2022-03-15  \n"
     ]
    }
   ],
   "source": [
    "customer_transactions = pd.merge(transactions, customers, on='CustomerID', how='left')\n",
    "print(customer_transactions.head())"
   ]
  },
  {
   "cell_type": "code",
   "execution_count": 7,
   "metadata": {},
   "outputs": [
    {
     "name": "stdout",
     "output_type": "stream",
     "text": [
      "  TransactionID CustomerID ProductID      TransactionDate  Quantity  \\\n",
      "0        T00001      C0199      P067  2024-08-25 12:38:23         1   \n",
      "1        T00112      C0146      P067  2024-05-27 22:23:54         1   \n",
      "2        T00166      C0127      P067  2024-04-25 07:38:55         1   \n",
      "3        T00272      C0087      P067  2024-03-26 22:55:37         2   \n",
      "4        T00363      C0070      P067  2024-03-21 15:10:10         3   \n",
      "\n",
      "   TotalValue  Price_x     CustomerName         Region  SignupDate  \\\n",
      "0      300.68   300.68   Andrea Jenkins         Europe  2022-12-03   \n",
      "1      300.68   300.68  Brittany Harvey           Asia  2024-09-04   \n",
      "2      300.68   300.68  Kathryn Stevens         Europe  2024-04-04   \n",
      "3      601.36   300.68  Travis Campbell  South America  2024-04-11   \n",
      "4      902.04   300.68    Timothy Perez         Europe  2022-03-15   \n",
      "\n",
      "                       ProductName     Category  Price_y  \n",
      "0  ComfortLiving Bluetooth Speaker  Electronics   300.68  \n",
      "1  ComfortLiving Bluetooth Speaker  Electronics   300.68  \n",
      "2  ComfortLiving Bluetooth Speaker  Electronics   300.68  \n",
      "3  ComfortLiving Bluetooth Speaker  Electronics   300.68  \n",
      "4  ComfortLiving Bluetooth Speaker  Electronics   300.68  \n"
     ]
    }
   ],
   "source": [
    "merged_data = pd.merge(customer_transactions, products, on='ProductID', how='left')\n",
    "\n",
    "print(merged_data.head())\n"
   ]
  },
  {
   "cell_type": "code",
   "execution_count": 10,
   "metadata": {},
   "outputs": [
    {
     "name": "stdout",
     "output_type": "stream",
     "text": [
      "  CustomerID  TotalValue  TransactionID  \\\n",
      "0      C0001     3354.52              5   \n",
      "1      C0002     1862.74              4   \n",
      "2      C0003     2725.38              4   \n",
      "3      C0004     5354.88              8   \n",
      "4      C0005     2034.24              3   \n",
      "\n",
      "                                            Category         Region  \\\n",
      "0    {'Electronics': 3, 'Books': 1, 'Home Decor': 1}  South America   \n",
      "1                   {'Home Decor': 2, 'Clothing': 2}           Asia   \n",
      "2  {'Home Decor': 2, 'Clothing': 1, 'Electronics'...  South America   \n",
      "3    {'Books': 3, 'Home Decor': 3, 'Electronics': 2}  South America   \n",
      "4                {'Electronics': 2, 'Home Decor': 1}           Asia   \n",
      "\n",
      "   SignupDate  AverageSpend  SignupYear  \n",
      "0  2022-07-10       670.904        2022  \n",
      "1  2022-02-13       465.685        2022  \n",
      "2  2024-03-07       681.345        2024  \n",
      "3  2022-10-09       669.360        2022  \n",
      "4  2022-08-15       678.080        2022  \n"
     ]
    }
   ],
   "source": [
    "customer_features = merged_data.groupby('CustomerID').agg({\n",
    "    'TotalValue': 'sum',  # Total spending\n",
    "    'TransactionID': 'count',  # Number of transactions\n",
    "    'Category': lambda x: x.value_counts().to_dict(),  # Product category preferences\n",
    "    'Region': 'first',  # Region\n",
    "    'SignupDate': 'first'  # Signup date\n",
    "}).reset_index()\n",
    "\n",
    "# Adding derived features\n",
    "customer_features['AverageSpend'] = customer_features['TotalValue'] / customer_features['TransactionID']\n",
    "customer_features['SignupYear'] = pd.to_datetime(customer_features['SignupDate']).dt.year\n",
    "\n",
    "print(customer_features.head())\n"
   ]
  },
  {
   "cell_type": "code",
   "execution_count": 11,
   "metadata": {},
   "outputs": [],
   "source": [
    "\n",
    "customer_features = pd.get_dummies(customer_features, columns=['Region'], drop_first=True)\n"
   ]
  },
  {
   "cell_type": "code",
   "execution_count": 12,
   "metadata": {},
   "outputs": [],
   "source": [
    "from sklearn.metrics.pairwise import cosine_similarity"
   ]
  },
  {
   "cell_type": "code",
   "execution_count": 13,
   "metadata": {},
   "outputs": [
    {
     "name": "stdout",
     "output_type": "stream",
     "text": [
      "  CustomerID  TotalValue  TransactionID  \\\n",
      "0      C0001    0.308942              5   \n",
      "1      C0002    0.168095              4   \n",
      "2      C0003    0.249541              4   \n",
      "3      C0004    0.497806              8   \n",
      "4      C0005    0.184287              3   \n",
      "\n",
      "                                            Category  SignupDate  \\\n",
      "0    {'Electronics': 3, 'Books': 1, 'Home Decor': 1}  2022-07-10   \n",
      "1                   {'Home Decor': 2, 'Clothing': 2}  2022-02-13   \n",
      "2  {'Home Decor': 2, 'Clothing': 1, 'Electronics'...  2024-03-07   \n",
      "3    {'Books': 3, 'Home Decor': 3, 'Electronics': 2}  2022-10-09   \n",
      "4                {'Electronics': 2, 'Home Decor': 1}  2022-08-15   \n",
      "\n",
      "   AverageSpend  SignupYear  Region_Europe  Region_North America  \\\n",
      "0      0.474336         0.0          False                 False   \n",
      "1      0.308940         0.0          False                 False   \n",
      "2      0.482751         1.0          False                 False   \n",
      "3      0.473092         0.0          False                 False   \n",
      "4      0.480120         0.0          False                 False   \n",
      "\n",
      "   Region_South America  \n",
      "0                  True  \n",
      "1                 False  \n",
      "2                  True  \n",
      "3                  True  \n",
      "4                 False  \n"
     ]
    }
   ],
   "source": [
    "from sklearn.preprocessing import MinMaxScaler\n",
    "\n",
    "scaler = MinMaxScaler()\n",
    "numeric_cols = ['TotalValue', 'AverageSpend', 'SignupYear']\n",
    "customer_features[numeric_cols] = scaler.fit_transform(customer_features[numeric_cols])\n",
    "\n",
    "print(customer_features.head())\n"
   ]
  },
  {
   "cell_type": "code",
   "execution_count": 14,
   "metadata": {},
   "outputs": [
    {
     "name": "stdout",
     "output_type": "stream",
     "text": [
      "(199, 199)\n"
     ]
    }
   ],
   "source": [
    "# Check that 'SignupYear' is being used for similarity calculation\n",
    "features = customer_features.drop(columns=['CustomerID', 'Category', 'SignupDate'])\n",
    "\n",
    "# Compute cosine similarity matrix\n",
    "similarity_matrix = cosine_similarity(features)\n",
    "\n",
    "# Check similarity matrix shape\n",
    "print(similarity_matrix.shape)\n"
   ]
  },
  {
   "cell_type": "code",
   "execution_count": 15,
   "metadata": {},
   "outputs": [
    {
     "name": "stdout",
     "output_type": "stream",
     "text": [
      "(199, 199)\n"
     ]
    }
   ],
   "source": [
    "# Extract the year from SignupDate and drop the original 'SignupDate'\n",
    "customer_features['SignupYear'] = pd.to_datetime(customer_features['SignupDate']).dt.year\n",
    "\n",
    "# Exclude non-numeric columns (like 'CustomerID', 'Category', and 'SignupDate') for similarity calculation\n",
    "features = customer_features.drop(columns=['CustomerID', 'Category', 'SignupDate'])\n",
    "\n",
    "# Compute cosine similarity matrix\n",
    "similarity_matrix = cosine_similarity(features)\n",
    "\n",
    "# Check similarity matrix shape\n",
    "print(similarity_matrix.shape)"
   ]
  },
  {
   "cell_type": "code",
   "execution_count": 16,
   "metadata": {},
   "outputs": [
    {
     "name": "stdout",
     "output_type": "stream",
     "text": [
      "TotalValue              float64\n",
      "TransactionID             int64\n",
      "AverageSpend            float64\n",
      "SignupYear                int32\n",
      "Region_Europe              bool\n",
      "Region_North America       bool\n",
      "Region_South America       bool\n",
      "dtype: object\n",
      "(199, 199)\n"
     ]
    }
   ],
   "source": [
    "# Drop non-numeric columns, including the 'SignupDate' and 'Category' columns\n",
    "features = customer_features.drop(columns=['CustomerID', 'Category', 'SignupDate'])\n",
    "\n",
    "# Check the data types to ensure they are all numeric\n",
    "print(features.dtypes)\n",
    "\n",
    "# Compute cosine similarity matrix\n",
    "similarity_matrix = cosine_similarity(features)\n",
    "\n",
    "# Check the shape of the similarity matrix\n",
    "print(similarity_matrix.shape)\n"
   ]
  },
  {
   "cell_type": "code",
   "execution_count": 17,
   "metadata": {},
   "outputs": [
    {
     "name": "stdout",
     "output_type": "stream",
     "text": [
      "TotalValue              float64\n",
      "TransactionID             int64\n",
      "AverageSpend            float64\n",
      "SignupYear                int32\n",
      "Region_Europe              bool\n",
      "Region_North America       bool\n",
      "Region_South America       bool\n",
      "dtype: object\n",
      "(199, 199)\n",
      "{'C0001': [('C0152', np.float64(1.0)), ('C0137', np.float64(1.0)), ('C0107', np.float64(1.0))], 'C0002': [('C0142', np.float64(1.0)), ('C0177', np.float64(1.0)), ('C0027', np.float64(1.0))], 'C0003': [('C0133', np.float64(1.0)), ('C0052', np.float64(1.0)), ('C0192', np.float64(1.0))], 'C0004': [('C0113', np.float64(1.0)), ('C0102', np.float64(1.0)), ('C0104', np.float64(1.0))], 'C0005': [('C0159', np.float64(1.0)), ('C0186', np.float64(1.0)), ('C0007', np.float64(1.0))], 'C0006': [('C0158', np.float64(1.0)), ('C0168', np.float64(1.0)), ('C0133', np.float64(1.0))], 'C0007': [('C0159', np.float64(1.0)), ('C0005', np.float64(1.0)), ('C0115', np.float64(1.0))], 'C0008': [('C0065', np.float64(1.0)), ('C0109', np.float64(1.0)), ('C0175', np.float64(1.0))], 'C0009': [('C0062', np.float64(1.0)), ('C0132', np.float64(1.0)), ('C0197', np.float64(1.0))], 'C0010': [('C0199', np.float64(1.0)), ('C0166', np.float64(1.0)), ('C0121', np.float64(1.0))], 'C0011': [('C0107', np.float64(1.0)), ('C0048', np.float64(1.0)), ('C0152', np.float64(1.0))], 'C0012': [('C0155', np.float64(1.0)), ('C0108', np.float64(1.0)), ('C0013', np.float64(1.0))], 'C0013': [('C0087', np.float64(1.0)), ('C0155', np.float64(1.0)), ('C0012', np.float64(1.0))], 'C0014': [('C0060', np.float64(1.0)), ('C0198', np.float64(1.0)), ('C0097', np.float64(1.0))], 'C0015': [('C0144', np.float64(1.0)), ('C0036', np.float64(1.0)), ('C0123', np.float64(1.0))], 'C0016': [('C0183', np.float64(1.0)), ('C0072', np.float64(1.0)), ('C0018', np.float64(1.0))], 'C0017': [('C0162', np.float64(1.0)), ('C0021', np.float64(1.0)), ('C0124', np.float64(1.0))], 'C0018': [('C0016', np.float64(1.0)), ('C0183', np.float64(1.0)), ('C0072', np.float64(1.0))], 'C0019': [('C0172', np.float64(1.0)), ('C0127', np.float64(1.0)), ('C0081', np.float64(1.0))], 'C0020': [('C0058', np.float64(1.0)), ('C0033', np.float64(1.0)), ('C0110', np.float64(1.0))], 'C0021': [('C0101', np.float64(1.0)), ('C0145', np.float64(1.0)), ('C0173', np.float64(1.0))], 'C0022': [('C0136', np.float64(1.0)), ('C0126', np.float64(1.0)), ('C0057', np.float64(1.0))], 'C0023': [('C0053', np.float64(1.0)), ('C0100', np.float64(1.0)), ('C0105', np.float64(1.0))], 'C0024': [('C0194', np.float64(1.0)), ('C0047', np.float64(1.0)), ('C0122', np.float64(1.0))], 'C0025': [('C0031', np.float64(1.0)), ('C0192', np.float64(1.0)), ('C0052', np.float64(1.0))], 'C0026': [('C0117', np.float64(1.0)), ('C0125', np.float64(1.0)), ('C0079', np.float64(1.0))], 'C0027': [('C0146', np.float64(1.0)), ('C0177', np.float64(1.0)), ('C0178', np.float64(1.0))], 'C0028': [('C0173', np.float64(1.0)), ('C0145', np.float64(1.0)), ('C0054', np.float64(1.0))], 'C0029': [('C0094', np.float64(1.0)), ('C0035', np.float64(1.0)), ('C0125', np.float64(1.0))], 'C0030': [('C0189', np.float64(1.0)), ('C0038', np.float64(1.0)), ('C0055', np.float64(1.0))], 'C0031': [('C0192', np.float64(1.0)), ('C0025', np.float64(1.0)), ('C0052', np.float64(1.0))], 'C0032': [('C0083', np.float64(1.0)), ('C0077', np.float64(1.0)), ('C0071', np.float64(1.0))], 'C0033': [('C0058', np.float64(1.0)), ('C0020', np.float64(1.0)), ('C0097', np.float64(1.0))], 'C0034': [('C0116', np.float64(1.0)), ('C0154', np.float64(1.0)), ('C0067', np.float64(1.0))], 'C0035': [('C0125', np.float64(1.0)), ('C0029', np.float64(1.0)), ('C0026', np.float64(1.0))], 'C0036': [('C0131', np.float64(1.0)), ('C0176', np.float64(1.0)), ('C0042', np.float64(1.0))], 'C0037': [('C0149', np.float64(1.0)), ('C0064', np.float64(1.0)), ('C0170', np.float64(1.0))], 'C0038': [('C0189', np.float64(1.0)), ('C0030', np.float64(1.0)), ('C0055', np.float64(1.0))], 'C0039': [('C0195', np.float64(1.0)), ('C0169', np.float64(1.0)), ('C0126', np.float64(1.0))], 'C0040': [('C0115', np.float64(1.0)), ('C0007', np.float64(1.0)), ('C0159', np.float64(1.0))], 'C0041': [('C0051', np.float64(1.0)), ('C0124', np.float64(1.0)), ('C0053', np.float64(1.0))], 'C0042': [('C0176', np.float64(1.0)), ('C0131', np.float64(1.0)), ('C0036', np.float64(1.0))], 'C0043': [('C0186', np.float64(1.0)), ('C0005', np.float64(1.0)), ('C0159', np.float64(1.0))], 'C0044': [('C0074', np.float64(1.0)), ('C0066', np.float64(1.0)), ('C0167', np.float64(1.0))], 'C0045': [('C0143', np.float64(1.0)), ('C0090', np.float64(1.0)), ('C0028', np.float64(1.0))], 'C0046': [('C0122', np.float64(1.0)), ('C0194', np.float64(1.0)), ('C0024', np.float64(1.0))], 'C0047': [('C0024', np.float64(1.0)), ('C0194', np.float64(1.0)), ('C0122', np.float64(1.0))], 'C0048': [('C0011', np.float64(1.0)), ('C0107', np.float64(1.0)), ('C0152', np.float64(1.0))], 'C0049': [('C0098', np.float64(1.0)), ('C0139', np.float64(1.0)), ('C0068', np.float64(1.0))], 'C0050': [('C0185', np.float64(1.0)), ('C0042', np.float64(1.0)), ('C0176', np.float64(1.0))], 'C0051': [('C0041', np.float64(1.0)), ('C0124', np.float64(1.0)), ('C0023', np.float64(1.0))], 'C0052': [('C0003', np.float64(1.0)), ('C0133', np.float64(1.0)), ('C0192', np.float64(1.0))], 'C0053': [('C0023', np.float64(1.0)), ('C0100', np.float64(1.0)), ('C0105', np.float64(1.0))], 'C0054': [('C0028', np.float64(1.0)), ('C0173', np.float64(1.0)), ('C0145', np.float64(1.0))], 'C0055': [('C0160', np.float64(1.0)), ('C0072', np.float64(1.0)), ('C0038', np.float64(1.0))], 'C0056': [('C0106', np.float64(1.0)), ('C0134', np.float64(1.0)), ('C0088', np.float64(1.0))], 'C0057': [('C0105', np.float64(1.0)), ('C0100', np.float64(1.0)), ('C0023', np.float64(1.0))], 'C0058': [('C0033', np.float64(1.0)), ('C0020', np.float64(1.0)), ('C0015', np.float64(1.0))], 'C0059': [('C0068', np.float64(1.0)), ('C0139', np.float64(1.0)), ('C0098', np.float64(1.0))], 'C0060': [('C0014', np.float64(1.0)), ('C0097', np.float64(1.0)), ('C0198', np.float64(1.0))], 'C0061': [('C0073', np.float64(1.0)), ('C0167', np.float64(1.0)), ('C0197', np.float64(1.0))], 'C0062': [('C0132', np.float64(1.0)), ('C0197', np.float64(1.0)), ('C0073', np.float64(1.0))], 'C0063': [('C0198', np.float64(1.0)), ('C0089', np.float64(1.0)), ('C0123', np.float64(1.0))], 'C0064': [('C0037', np.float64(1.0)), ('C0149', np.float64(1.0)), ('C0170', np.float64(1.0))], 'C0065': [('C0008', np.float64(1.0)), ('C0156', np.float64(1.0)), ('C0175', np.float64(1.0))], 'C0066': [('C0044', np.float64(1.0)), ('C0074', np.float64(1.0)), ('C0167', np.float64(1.0))], 'C0067': [('C0154', np.float64(1.0)), ('C0034', np.float64(1.0)), ('C0116', np.float64(1.0))], 'C0068': [('C0059', np.float64(1.0)), ('C0139', np.float64(1.0)), ('C0098', np.float64(1.0))], 'C0069': [('C0086', np.float64(1.0)), ('C0164', np.float64(1.0)), ('C0103', np.float64(1.0))], 'C0070': [('C0135', np.float64(1.0)), ('C0166', np.float64(1.0)), ('C0199', np.float64(1.0))], 'C0071': [('C0112', np.float64(1.0)), ('C0077', np.float64(1.0)), ('C0032', np.float64(1.0))], 'C0072': [('C0160', np.float64(1.0)), ('C0055', np.float64(1.0)), ('C0038', np.float64(1.0))], 'C0073': [('C0061', np.float64(1.0)), ('C0197', np.float64(1.0)), ('C0132', np.float64(1.0))], 'C0074': [('C0044', np.float64(1.0)), ('C0066', np.float64(1.0)), ('C0167', np.float64(1.0))], 'C0075': [('C0093', np.float64(1.0)), ('C0017', np.float64(1.0)), ('C0084', np.float64(1.0))], 'C0076': [('C0174', np.float64(1.0)), ('C0190', np.float64(1.0)), ('C0191', np.float64(1.0))], 'C0077': [('C0032', np.float64(1.0)), ('C0083', np.float64(1.0)), ('C0071', np.float64(1.0))], 'C0078': [('C0080', np.float64(1.0)), ('C0110', np.float64(1.0)), ('C0097', np.float64(1.0))], 'C0079': [('C0117', np.float64(1.0)), ('C0026', np.float64(1.0)), ('C0125', np.float64(1.0))], 'C0080': [('C0078', np.float64(1.0)), ('C0110', np.float64(1.0)), ('C0097', np.float64(1.0))], 'C0081': [('C0179', np.float64(1.0)), ('C0127', np.float64(1.0)), ('C0057', np.float64(1.0))], 'C0082': [('C0087', np.float64(1.0)), ('C0013', np.float64(1.0)), ('C0155', np.float64(1.0))], 'C0083': [('C0032', np.float64(1.0)), ('C0077', np.float64(1.0)), ('C0071', np.float64(1.0))], 'C0084': [('C0093', np.float64(1.0)), ('C0162', np.float64(1.0)), ('C0161', np.float64(1.0))], 'C0085': [('C0120', np.float64(1.0)), ('C0129', np.float64(1.0)), ('C0112', np.float64(1.0))], 'C0086': [('C0069', np.float64(1.0)), ('C0103', np.float64(1.0)), ('C0164', np.float64(1.0))], 'C0087': [('C0013', np.float64(1.0)), ('C0082', np.float64(1.0)), ('C0155', np.float64(1.0))], 'C0088': [('C0134', np.float64(1.0)), ('C0106', np.float64(1.0)), ('C0056', np.float64(1.0))], 'C0089': [('C0063', np.float64(1.0)), ('C0198', np.float64(1.0)), ('C0066', np.float64(1.0))], 'C0090': [('C0045', np.float64(1.0)), ('C0143', np.float64(1.0)), ('C0124', np.float64(1.0))], 'C0091': [('C0181', np.float64(1.0)), ('C0118', np.float64(1.0)), ('C0195', np.float64(1.0))], 'C0092': [('C0193', np.float64(1.0)), ('C0178', np.float64(1.0)), ('C0146', np.float64(1.0))], 'C0093': [('C0084', np.float64(1.0)), ('C0162', np.float64(1.0)), ('C0021', np.float64(1.0))], 'C0094': [('C0029', np.float64(1.0)), ('C0035', np.float64(1.0)), ('C0125', np.float64(1.0))], 'C0095': [('C0123', np.float64(1.0)), ('C0130', np.float64(1.0)), ('C0150', np.float64(1.0))], 'C0096': [('C0148', np.float64(1.0)), ('C0171', np.float64(1.0)), ('C0187', np.float64(1.0))], 'C0097': [('C0110', np.float64(1.0)), ('C0078', np.float64(1.0)), ('C0080', np.float64(1.0))], 'C0098': [('C0139', np.float64(1.0)), ('C0049', np.float64(1.0)), ('C0068', np.float64(1.0))], 'C0099': [('C0104', np.float64(1.0)), ('C0188', np.float64(1.0)), ('C0102', np.float64(1.0))], 'C0100': [('C0023', np.float64(1.0)), ('C0105', np.float64(1.0)), ('C0053', np.float64(1.0))], 'C0101': [('C0021', np.float64(1.0)), ('C0145', np.float64(1.0)), ('C0173', np.float64(1.0))], 'C0102': [('C0104', np.float64(1.0)), ('C0099', np.float64(1.0)), ('C0004', np.float64(1.0))], 'C0103': [('C0086', np.float64(1.0)), ('C0069', np.float64(1.0)), ('C0111', np.float64(1.0))], 'C0104': [('C0099', np.float64(1.0)), ('C0102', np.float64(1.0)), ('C0188', np.float64(1.0))], 'C0105': [('C0100', np.float64(1.0)), ('C0057', np.float64(1.0)), ('C0023', np.float64(1.0))], 'C0106': [('C0056', np.float64(1.0)), ('C0134', np.float64(1.0)), ('C0088', np.float64(1.0))], 'C0107': [('C0011', np.float64(1.0)), ('C0048', np.float64(1.0)), ('C0152', np.float64(1.0))], 'C0108': [('C0012', np.float64(1.0)), ('C0155', np.float64(1.0)), ('C0013', np.float64(1.0))], 'C0109': [('C0156', np.float64(1.0)), ('C0008', np.float64(1.0)), ('C0065', np.float64(1.0))], 'C0110': [('C0078', np.float64(1.0)), ('C0080', np.float64(1.0)), ('C0097', np.float64(1.0))], 'C0111': [('C0103', np.float64(1.0)), ('C0119', np.float64(1.0)), ('C0086', np.float64(1.0))], 'C0112': [('C0129', np.float64(1.0)), ('C0120', np.float64(1.0)), ('C0071', np.float64(1.0))], 'C0113': [('C0004', np.float64(1.0)), ('C0102', np.float64(1.0)), ('C0104', np.float64(1.0))], 'C0114': [('C0182', np.float64(1.0)), ('C0170', np.float64(1.0)), ('C0149', np.float64(1.0))], 'C0115': [('C0007', np.float64(1.0)), ('C0040', np.float64(1.0)), ('C0159', np.float64(1.0))], 'C0116': [('C0034', np.float64(1.0)), ('C0154', np.float64(1.0)), ('C0067', np.float64(1.0))], 'C0117': [('C0079', np.float64(1.0)), ('C0026', np.float64(1.0)), ('C0125', np.float64(1.0))], 'C0118': [('C0181', np.float64(1.0)), ('C0091', np.float64(1.0)), ('C0195', np.float64(1.0))], 'C0119': [('C0111', np.float64(1.0)), ('C0103', np.float64(1.0)), ('C0086', np.float64(1.0))], 'C0120': [('C0085', np.float64(1.0)), ('C0129', np.float64(1.0)), ('C0112', np.float64(1.0))], 'C0121': [('C0010', np.float64(1.0)), ('C0199', np.float64(1.0)), ('C0166', np.float64(1.0))], 'C0122': [('C0046', np.float64(1.0)), ('C0194', np.float64(1.0)), ('C0024', np.float64(1.0))], 'C0123': [('C0140', np.float64(1.0)), ('C0128', np.float64(1.0)), ('C0063', np.float64(1.0))], 'C0124': [('C0051', np.float64(1.0)), ('C0041', np.float64(1.0)), ('C0179', np.float64(1.0))], 'C0125': [('C0035', np.float64(1.0)), ('C0026', np.float64(1.0)), ('C0117', np.float64(1.0))], 'C0126': [('C0169', np.float64(1.0)), ('C0153', np.float64(1.0)), ('C0039', np.float64(1.0))], 'C0127': [('C0081', np.float64(1.0)), ('C0179', np.float64(1.0)), ('C0172', np.float64(1.0))], 'C0128': [('C0123', np.float64(1.0)), ('C0140', np.float64(1.0)), ('C0043', np.float64(1.0))], 'C0129': [('C0120', np.float64(1.0)), ('C0085', np.float64(1.0)), ('C0112', np.float64(1.0))], 'C0130': [('C0150', np.float64(1.0)), ('C0151', np.float64(1.0)), ('C0095', np.float64(1.0))], 'C0131': [('C0036', np.float64(1.0)), ('C0176', np.float64(1.0)), ('C0042', np.float64(1.0))], 'C0132': [('C0197', np.float64(1.0)), ('C0073', np.float64(1.0)), ('C0062', np.float64(1.0))], 'C0133': [('C0003', np.float64(1.0)), ('C0052', np.float64(1.0)), ('C0192', np.float64(1.0))], 'C0134': [('C0106', np.float64(1.0)), ('C0056', np.float64(1.0)), ('C0088', np.float64(1.0))], 'C0135': [('C0070', np.float64(1.0)), ('C0166', np.float64(1.0)), ('C0199', np.float64(1.0))], 'C0136': [('C0022', np.float64(1.0)), ('C0039', np.float64(1.0)), ('C0057', np.float64(1.0))], 'C0137': [('C0001', np.float64(1.0)), ('C0152', np.float64(1.0)), ('C0107', np.float64(1.0))], 'C0138': [('C0200', np.float64(1.0)), ('C0056', np.float64(1.0)), ('C0106', np.float64(1.0))], 'C0139': [('C0098', np.float64(1.0)), ('C0049', np.float64(1.0)), ('C0068', np.float64(1.0))], 'C0140': [('C0123', np.float64(1.0)), ('C0128', np.float64(1.0)), ('C0110', np.float64(1.0))], 'C0141': [('C0175', np.float64(1.0)), ('C0075', np.float64(1.0)), ('C0065', np.float64(1.0))], 'C0142': [('C0177', np.float64(1.0)), ('C0027', np.float64(1.0)), ('C0146', np.float64(1.0))], 'C0143': [('C0045', np.float64(1.0)), ('C0090', np.float64(1.0)), ('C0013', np.float64(1.0))], 'C0144': [('C0015', np.float64(1.0)), ('C0123', np.float64(1.0)), ('C0036', np.float64(1.0))], 'C0145': [('C0173', np.float64(1.0)), ('C0101', np.float64(1.0)), ('C0021', np.float64(1.0))], 'C0146': [('C0027', np.float64(1.0)), ('C0177', np.float64(1.0)), ('C0178', np.float64(1.0))], 'C0147': [('C0165', np.float64(1.0)), ('C0084', np.float64(1.0)), ('C0113', np.float64(1.0))], 'C0148': [('C0171', np.float64(1.0)), ('C0096', np.float64(1.0)), ('C0187', np.float64(1.0))], 'C0149': [('C0037', np.float64(1.0)), ('C0064', np.float64(1.0)), ('C0170', np.float64(1.0))], 'C0150': [('C0130', np.float64(1.0)), ('C0151', np.float64(1.0)), ('C0095', np.float64(1.0))], 'C0151': [('C0150', np.float64(1.0)), ('C0130', np.float64(1.0)), ('C0097', np.float64(1.0))], 'C0152': [('C0001', np.float64(1.0)), ('C0137', np.float64(1.0)), ('C0107', np.float64(1.0))], 'C0153': [('C0126', np.float64(1.0)), ('C0169', np.float64(1.0)), ('C0039', np.float64(1.0))], 'C0154': [('C0067', np.float64(1.0)), ('C0034', np.float64(1.0)), ('C0116', np.float64(1.0))], 'C0155': [('C0012', np.float64(1.0)), ('C0108', np.float64(1.0)), ('C0013', np.float64(1.0))], 'C0156': [('C0109', np.float64(1.0)), ('C0065', np.float64(1.0)), ('C0008', np.float64(1.0))], 'C0157': [('C0030', np.float64(1.0)), ('C0189', np.float64(1.0)), ('C0038', np.float64(1.0))], 'C0158': [('C0006', np.float64(1.0)), ('C0133', np.float64(1.0)), ('C0003', np.float64(1.0))], 'C0159': [('C0005', np.float64(1.0)), ('C0186', np.float64(1.0)), ('C0007', np.float64(1.0))], 'C0160': [('C0072', np.float64(1.0)), ('C0055', np.float64(1.0)), ('C0038', np.float64(1.0))], 'C0161': [('C0162', np.float64(1.0)), ('C0021', np.float64(1.0)), ('C0101', np.float64(1.0))], 'C0162': [('C0021', np.float64(1.0)), ('C0101', np.float64(1.0)), ('C0145', np.float64(1.0))], 'C0163': [('C0153', np.float64(1.0)), ('C0126', np.float64(1.0)), ('C0169', np.float64(1.0))], 'C0164': [('C0069', np.float64(1.0)), ('C0086', np.float64(1.0)), ('C0103', np.float64(1.0))], 'C0165': [('C0147', np.float64(1.0)), ('C0102', np.float64(1.0)), ('C0104', np.float64(1.0))], 'C0166': [('C0199', np.float64(1.0)), ('C0010', np.float64(1.0)), ('C0070', np.float64(1.0))], 'C0167': [('C0061', np.float64(1.0)), ('C0073', np.float64(1.0)), ('C0197', np.float64(1.0))], 'C0168': [('C0006', np.float64(1.0)), ('C0158', np.float64(1.0)), ('C0133', np.float64(1.0))], 'C0169': [('C0126', np.float64(1.0)), ('C0153', np.float64(1.0)), ('C0039', np.float64(1.0))], 'C0170': [('C0182', np.float64(1.0)), ('C0149', np.float64(1.0)), ('C0037', np.float64(1.0))], 'C0171': [('C0148', np.float64(1.0)), ('C0187', np.float64(1.0)), ('C0096', np.float64(1.0))], 'C0172': [('C0019', np.float64(1.0)), ('C0127', np.float64(1.0)), ('C0081', np.float64(1.0))], 'C0173': [('C0145', np.float64(1.0)), ('C0101', np.float64(1.0)), ('C0021', np.float64(1.0))], 'C0174': [('C0190', np.float64(1.0)), ('C0191', np.float64(1.0)), ('C0137', np.float64(1.0))], 'C0175': [('C0093', np.float64(1.0)), ('C0065', np.float64(1.0)), ('C0008', np.float64(1.0))], 'C0176': [('C0042', np.float64(1.0)), ('C0131', np.float64(1.0)), ('C0036', np.float64(1.0))], 'C0177': [('C0027', np.float64(1.0)), ('C0146', np.float64(1.0)), ('C0178', np.float64(1.0))], 'C0178': [('C0146', np.float64(1.0)), ('C0027', np.float64(1.0)), ('C0177', np.float64(1.0))], 'C0179': [('C0081', np.float64(1.0)), ('C0127', np.float64(1.0)), ('C0057', np.float64(1.0))], 'C0181': [('C0118', np.float64(1.0)), ('C0091', np.float64(1.0)), ('C0195', np.float64(1.0))], 'C0182': [('C0170', np.float64(1.0)), ('C0149', np.float64(1.0)), ('C0037', np.float64(1.0))], 'C0183': [('C0016', np.float64(1.0)), ('C0072', np.float64(1.0)), ('C0160', np.float64(1.0))], 'C0184': [('C0108', np.float64(1.0)), ('C0012', np.float64(1.0)), ('C0155', np.float64(1.0))], 'C0185': [('C0050', np.float64(1.0)), ('C0042', np.float64(1.0)), ('C0176', np.float64(1.0))], 'C0186': [('C0005', np.float64(1.0)), ('C0159', np.float64(1.0)), ('C0043', np.float64(1.0))], 'C0187': [('C0171', np.float64(1.0)), ('C0048', np.float64(1.0)), ('C0148', np.float64(1.0))], 'C0188': [('C0099', np.float64(1.0)), ('C0104', np.float64(1.0)), ('C0102', np.float64(1.0))], 'C0189': [('C0038', np.float64(1.0)), ('C0030', np.float64(1.0)), ('C0055', np.float64(1.0))], 'C0190': [('C0191', np.float64(1.0)), ('C0174', np.float64(1.0)), ('C0137', np.float64(1.0))], 'C0191': [('C0190', np.float64(1.0)), ('C0174', np.float64(1.0)), ('C0137', np.float64(1.0))], 'C0192': [('C0031', np.float64(1.0)), ('C0052', np.float64(1.0)), ('C0025', np.float64(1.0))], 'C0193': [('C0092', np.float64(1.0)), ('C0178', np.float64(1.0)), ('C0146', np.float64(1.0))], 'C0194': [('C0024', np.float64(1.0)), ('C0047', np.float64(1.0)), ('C0122', np.float64(1.0))], 'C0195': [('C0039', np.float64(1.0)), ('C0169', np.float64(1.0)), ('C0126', np.float64(1.0))], 'C0196': [('C0135', np.float64(1.0)), ('C0070', np.float64(1.0)), ('C0166', np.float64(1.0))], 'C0197': [('C0132', np.float64(1.0)), ('C0073', np.float64(1.0)), ('C0061', np.float64(1.0))], 'C0198': [('C0063', np.float64(1.0)), ('C0089', np.float64(1.0)), ('C0128', np.float64(1.0))], 'C0199': [('C0010', np.float64(1.0)), ('C0166', np.float64(1.0)), ('C0121', np.float64(1.0))], 'C0200': [('C0138', np.float64(1.0)), ('C0056', np.float64(1.0)), ('C0106', np.float64(1.0))]}\n"
     ]
    }
   ],
   "source": [
    "# Drop 'CustomerID' and any non-numeric columns (e.g., 'Category' if not one-hot encoded)\n",
    "numeric_features = customer_features.drop(columns=['CustomerID', 'Category', 'SignupDate'])\n",
    "\n",
    "# Ensure that we are only passing numerical values\n",
    "print(numeric_features.dtypes)  # Check the data types\n",
    "\n",
    "# Now compute the cosine similarity on the numerical columns\n",
    "from sklearn.metrics.pairwise import cosine_similarity\n",
    "similarity_matrix = cosine_similarity(numeric_features)\n",
    "\n",
    "# Verify the shape of the similarity matrix\n",
    "print(similarity_matrix.shape)\n",
    "\n",
    "# Get top 3 similar customers for each customer\n",
    "lookalike_results = {}\n",
    "\n",
    "for i, customer_id in enumerate(customer_features['CustomerID']):\n",
    "    similar_customers = sorted(\n",
    "        list(enumerate(similarity_matrix[i])),\n",
    "        key=lambda x: -x[1]  # Sort by similarity score (descending)\n",
    "    )[1:4]  # Exclude self and take top 3 most similar customers\n",
    "\n",
    "    lookalike_results[customer_id] = [(customer_features['CustomerID'][j], round(score, 2)) \n",
    "                                      for j, score in similar_customers]\n",
    "\n",
    "# Check first few results\n",
    "print(lookalike_results)\n"
   ]
  },
  {
   "cell_type": "code",
   "execution_count": 18,
   "metadata": {},
   "outputs": [
    {
     "name": "stdout",
     "output_type": "stream",
     "text": [
      "{'C0001': [('C0152', np.float64(1.0)), ('C0137', np.float64(1.0)), ('C0107', np.float64(1.0))], 'C0002': [('C0142', np.float64(1.0)), ('C0177', np.float64(1.0)), ('C0027', np.float64(1.0))], 'C0003': [('C0133', np.float64(1.0)), ('C0052', np.float64(1.0)), ('C0192', np.float64(1.0))], 'C0004': [('C0113', np.float64(1.0)), ('C0102', np.float64(1.0)), ('C0104', np.float64(1.0))], 'C0005': [('C0159', np.float64(1.0)), ('C0186', np.float64(1.0)), ('C0007', np.float64(1.0))], 'C0006': [('C0158', np.float64(1.0)), ('C0168', np.float64(1.0)), ('C0133', np.float64(1.0))], 'C0007': [('C0159', np.float64(1.0)), ('C0005', np.float64(1.0)), ('C0115', np.float64(1.0))], 'C0008': [('C0065', np.float64(1.0)), ('C0109', np.float64(1.0)), ('C0175', np.float64(1.0))], 'C0009': [('C0062', np.float64(1.0)), ('C0132', np.float64(1.0)), ('C0197', np.float64(1.0))], 'C0010': [('C0199', np.float64(1.0)), ('C0166', np.float64(1.0)), ('C0121', np.float64(1.0))], 'C0011': [('C0107', np.float64(1.0)), ('C0048', np.float64(1.0)), ('C0152', np.float64(1.0))], 'C0012': [('C0155', np.float64(1.0)), ('C0108', np.float64(1.0)), ('C0013', np.float64(1.0))], 'C0013': [('C0087', np.float64(1.0)), ('C0155', np.float64(1.0)), ('C0012', np.float64(1.0))], 'C0014': [('C0060', np.float64(1.0)), ('C0198', np.float64(1.0)), ('C0097', np.float64(1.0))], 'C0015': [('C0144', np.float64(1.0)), ('C0036', np.float64(1.0)), ('C0123', np.float64(1.0))], 'C0016': [('C0183', np.float64(1.0)), ('C0072', np.float64(1.0)), ('C0018', np.float64(1.0))], 'C0017': [('C0162', np.float64(1.0)), ('C0021', np.float64(1.0)), ('C0124', np.float64(1.0))], 'C0018': [('C0016', np.float64(1.0)), ('C0183', np.float64(1.0)), ('C0072', np.float64(1.0))], 'C0019': [('C0172', np.float64(1.0)), ('C0127', np.float64(1.0)), ('C0081', np.float64(1.0))], 'C0020': [('C0058', np.float64(1.0)), ('C0033', np.float64(1.0)), ('C0110', np.float64(1.0))], 'C0021': [('C0101', np.float64(1.0)), ('C0145', np.float64(1.0)), ('C0173', np.float64(1.0))], 'C0022': [('C0136', np.float64(1.0)), ('C0126', np.float64(1.0)), ('C0057', np.float64(1.0))], 'C0023': [('C0053', np.float64(1.0)), ('C0100', np.float64(1.0)), ('C0105', np.float64(1.0))], 'C0024': [('C0194', np.float64(1.0)), ('C0047', np.float64(1.0)), ('C0122', np.float64(1.0))], 'C0025': [('C0031', np.float64(1.0)), ('C0192', np.float64(1.0)), ('C0052', np.float64(1.0))], 'C0026': [('C0117', np.float64(1.0)), ('C0125', np.float64(1.0)), ('C0079', np.float64(1.0))], 'C0027': [('C0146', np.float64(1.0)), ('C0177', np.float64(1.0)), ('C0178', np.float64(1.0))], 'C0028': [('C0173', np.float64(1.0)), ('C0145', np.float64(1.0)), ('C0054', np.float64(1.0))], 'C0029': [('C0094', np.float64(1.0)), ('C0035', np.float64(1.0)), ('C0125', np.float64(1.0))], 'C0030': [('C0189', np.float64(1.0)), ('C0038', np.float64(1.0)), ('C0055', np.float64(1.0))], 'C0031': [('C0192', np.float64(1.0)), ('C0025', np.float64(1.0)), ('C0052', np.float64(1.0))], 'C0032': [('C0083', np.float64(1.0)), ('C0077', np.float64(1.0)), ('C0071', np.float64(1.0))], 'C0033': [('C0058', np.float64(1.0)), ('C0020', np.float64(1.0)), ('C0097', np.float64(1.0))], 'C0034': [('C0116', np.float64(1.0)), ('C0154', np.float64(1.0)), ('C0067', np.float64(1.0))], 'C0035': [('C0125', np.float64(1.0)), ('C0029', np.float64(1.0)), ('C0026', np.float64(1.0))], 'C0036': [('C0131', np.float64(1.0)), ('C0176', np.float64(1.0)), ('C0042', np.float64(1.0))], 'C0037': [('C0149', np.float64(1.0)), ('C0064', np.float64(1.0)), ('C0170', np.float64(1.0))], 'C0038': [('C0189', np.float64(1.0)), ('C0030', np.float64(1.0)), ('C0055', np.float64(1.0))], 'C0039': [('C0195', np.float64(1.0)), ('C0169', np.float64(1.0)), ('C0126', np.float64(1.0))], 'C0040': [('C0115', np.float64(1.0)), ('C0007', np.float64(1.0)), ('C0159', np.float64(1.0))], 'C0041': [('C0051', np.float64(1.0)), ('C0124', np.float64(1.0)), ('C0053', np.float64(1.0))], 'C0042': [('C0176', np.float64(1.0)), ('C0131', np.float64(1.0)), ('C0036', np.float64(1.0))], 'C0043': [('C0186', np.float64(1.0)), ('C0005', np.float64(1.0)), ('C0159', np.float64(1.0))], 'C0044': [('C0074', np.float64(1.0)), ('C0066', np.float64(1.0)), ('C0167', np.float64(1.0))], 'C0045': [('C0143', np.float64(1.0)), ('C0090', np.float64(1.0)), ('C0028', np.float64(1.0))], 'C0046': [('C0122', np.float64(1.0)), ('C0194', np.float64(1.0)), ('C0024', np.float64(1.0))], 'C0047': [('C0024', np.float64(1.0)), ('C0194', np.float64(1.0)), ('C0122', np.float64(1.0))], 'C0048': [('C0011', np.float64(1.0)), ('C0107', np.float64(1.0)), ('C0152', np.float64(1.0))], 'C0049': [('C0098', np.float64(1.0)), ('C0139', np.float64(1.0)), ('C0068', np.float64(1.0))], 'C0050': [('C0185', np.float64(1.0)), ('C0042', np.float64(1.0)), ('C0176', np.float64(1.0))], 'C0051': [('C0041', np.float64(1.0)), ('C0124', np.float64(1.0)), ('C0023', np.float64(1.0))], 'C0052': [('C0003', np.float64(1.0)), ('C0133', np.float64(1.0)), ('C0192', np.float64(1.0))], 'C0053': [('C0023', np.float64(1.0)), ('C0100', np.float64(1.0)), ('C0105', np.float64(1.0))], 'C0054': [('C0028', np.float64(1.0)), ('C0173', np.float64(1.0)), ('C0145', np.float64(1.0))], 'C0055': [('C0160', np.float64(1.0)), ('C0072', np.float64(1.0)), ('C0038', np.float64(1.0))], 'C0056': [('C0106', np.float64(1.0)), ('C0134', np.float64(1.0)), ('C0088', np.float64(1.0))], 'C0057': [('C0105', np.float64(1.0)), ('C0100', np.float64(1.0)), ('C0023', np.float64(1.0))], 'C0058': [('C0033', np.float64(1.0)), ('C0020', np.float64(1.0)), ('C0015', np.float64(1.0))], 'C0059': [('C0068', np.float64(1.0)), ('C0139', np.float64(1.0)), ('C0098', np.float64(1.0))], 'C0060': [('C0014', np.float64(1.0)), ('C0097', np.float64(1.0)), ('C0198', np.float64(1.0))], 'C0061': [('C0073', np.float64(1.0)), ('C0167', np.float64(1.0)), ('C0197', np.float64(1.0))], 'C0062': [('C0132', np.float64(1.0)), ('C0197', np.float64(1.0)), ('C0073', np.float64(1.0))], 'C0063': [('C0198', np.float64(1.0)), ('C0089', np.float64(1.0)), ('C0123', np.float64(1.0))], 'C0064': [('C0037', np.float64(1.0)), ('C0149', np.float64(1.0)), ('C0170', np.float64(1.0))], 'C0065': [('C0008', np.float64(1.0)), ('C0156', np.float64(1.0)), ('C0175', np.float64(1.0))], 'C0066': [('C0044', np.float64(1.0)), ('C0074', np.float64(1.0)), ('C0167', np.float64(1.0))], 'C0067': [('C0154', np.float64(1.0)), ('C0034', np.float64(1.0)), ('C0116', np.float64(1.0))], 'C0068': [('C0059', np.float64(1.0)), ('C0139', np.float64(1.0)), ('C0098', np.float64(1.0))], 'C0069': [('C0086', np.float64(1.0)), ('C0164', np.float64(1.0)), ('C0103', np.float64(1.0))], 'C0070': [('C0135', np.float64(1.0)), ('C0166', np.float64(1.0)), ('C0199', np.float64(1.0))], 'C0071': [('C0112', np.float64(1.0)), ('C0077', np.float64(1.0)), ('C0032', np.float64(1.0))], 'C0072': [('C0160', np.float64(1.0)), ('C0055', np.float64(1.0)), ('C0038', np.float64(1.0))], 'C0073': [('C0061', np.float64(1.0)), ('C0197', np.float64(1.0)), ('C0132', np.float64(1.0))], 'C0074': [('C0044', np.float64(1.0)), ('C0066', np.float64(1.0)), ('C0167', np.float64(1.0))], 'C0075': [('C0093', np.float64(1.0)), ('C0017', np.float64(1.0)), ('C0084', np.float64(1.0))], 'C0076': [('C0174', np.float64(1.0)), ('C0190', np.float64(1.0)), ('C0191', np.float64(1.0))], 'C0077': [('C0032', np.float64(1.0)), ('C0083', np.float64(1.0)), ('C0071', np.float64(1.0))], 'C0078': [('C0080', np.float64(1.0)), ('C0110', np.float64(1.0)), ('C0097', np.float64(1.0))], 'C0079': [('C0117', np.float64(1.0)), ('C0026', np.float64(1.0)), ('C0125', np.float64(1.0))], 'C0080': [('C0078', np.float64(1.0)), ('C0110', np.float64(1.0)), ('C0097', np.float64(1.0))], 'C0081': [('C0179', np.float64(1.0)), ('C0127', np.float64(1.0)), ('C0057', np.float64(1.0))], 'C0082': [('C0087', np.float64(1.0)), ('C0013', np.float64(1.0)), ('C0155', np.float64(1.0))], 'C0083': [('C0032', np.float64(1.0)), ('C0077', np.float64(1.0)), ('C0071', np.float64(1.0))], 'C0084': [('C0093', np.float64(1.0)), ('C0162', np.float64(1.0)), ('C0161', np.float64(1.0))], 'C0085': [('C0120', np.float64(1.0)), ('C0129', np.float64(1.0)), ('C0112', np.float64(1.0))], 'C0086': [('C0069', np.float64(1.0)), ('C0103', np.float64(1.0)), ('C0164', np.float64(1.0))], 'C0087': [('C0013', np.float64(1.0)), ('C0082', np.float64(1.0)), ('C0155', np.float64(1.0))], 'C0088': [('C0134', np.float64(1.0)), ('C0106', np.float64(1.0)), ('C0056', np.float64(1.0))], 'C0089': [('C0063', np.float64(1.0)), ('C0198', np.float64(1.0)), ('C0066', np.float64(1.0))], 'C0090': [('C0045', np.float64(1.0)), ('C0143', np.float64(1.0)), ('C0124', np.float64(1.0))], 'C0091': [('C0181', np.float64(1.0)), ('C0118', np.float64(1.0)), ('C0195', np.float64(1.0))], 'C0092': [('C0193', np.float64(1.0)), ('C0178', np.float64(1.0)), ('C0146', np.float64(1.0))], 'C0093': [('C0084', np.float64(1.0)), ('C0162', np.float64(1.0)), ('C0021', np.float64(1.0))], 'C0094': [('C0029', np.float64(1.0)), ('C0035', np.float64(1.0)), ('C0125', np.float64(1.0))], 'C0095': [('C0123', np.float64(1.0)), ('C0130', np.float64(1.0)), ('C0150', np.float64(1.0))], 'C0096': [('C0148', np.float64(1.0)), ('C0171', np.float64(1.0)), ('C0187', np.float64(1.0))], 'C0097': [('C0110', np.float64(1.0)), ('C0078', np.float64(1.0)), ('C0080', np.float64(1.0))], 'C0098': [('C0139', np.float64(1.0)), ('C0049', np.float64(1.0)), ('C0068', np.float64(1.0))], 'C0099': [('C0104', np.float64(1.0)), ('C0188', np.float64(1.0)), ('C0102', np.float64(1.0))], 'C0100': [('C0023', np.float64(1.0)), ('C0105', np.float64(1.0)), ('C0053', np.float64(1.0))], 'C0101': [('C0021', np.float64(1.0)), ('C0145', np.float64(1.0)), ('C0173', np.float64(1.0))], 'C0102': [('C0104', np.float64(1.0)), ('C0099', np.float64(1.0)), ('C0004', np.float64(1.0))], 'C0103': [('C0086', np.float64(1.0)), ('C0069', np.float64(1.0)), ('C0111', np.float64(1.0))], 'C0104': [('C0099', np.float64(1.0)), ('C0102', np.float64(1.0)), ('C0188', np.float64(1.0))], 'C0105': [('C0100', np.float64(1.0)), ('C0057', np.float64(1.0)), ('C0023', np.float64(1.0))], 'C0106': [('C0056', np.float64(1.0)), ('C0134', np.float64(1.0)), ('C0088', np.float64(1.0))], 'C0107': [('C0011', np.float64(1.0)), ('C0048', np.float64(1.0)), ('C0152', np.float64(1.0))], 'C0108': [('C0012', np.float64(1.0)), ('C0155', np.float64(1.0)), ('C0013', np.float64(1.0))], 'C0109': [('C0156', np.float64(1.0)), ('C0008', np.float64(1.0)), ('C0065', np.float64(1.0))], 'C0110': [('C0078', np.float64(1.0)), ('C0080', np.float64(1.0)), ('C0097', np.float64(1.0))], 'C0111': [('C0103', np.float64(1.0)), ('C0119', np.float64(1.0)), ('C0086', np.float64(1.0))], 'C0112': [('C0129', np.float64(1.0)), ('C0120', np.float64(1.0)), ('C0071', np.float64(1.0))], 'C0113': [('C0004', np.float64(1.0)), ('C0102', np.float64(1.0)), ('C0104', np.float64(1.0))], 'C0114': [('C0182', np.float64(1.0)), ('C0170', np.float64(1.0)), ('C0149', np.float64(1.0))], 'C0115': [('C0007', np.float64(1.0)), ('C0040', np.float64(1.0)), ('C0159', np.float64(1.0))], 'C0116': [('C0034', np.float64(1.0)), ('C0154', np.float64(1.0)), ('C0067', np.float64(1.0))], 'C0117': [('C0079', np.float64(1.0)), ('C0026', np.float64(1.0)), ('C0125', np.float64(1.0))], 'C0118': [('C0181', np.float64(1.0)), ('C0091', np.float64(1.0)), ('C0195', np.float64(1.0))], 'C0119': [('C0111', np.float64(1.0)), ('C0103', np.float64(1.0)), ('C0086', np.float64(1.0))], 'C0120': [('C0085', np.float64(1.0)), ('C0129', np.float64(1.0)), ('C0112', np.float64(1.0))], 'C0121': [('C0010', np.float64(1.0)), ('C0199', np.float64(1.0)), ('C0166', np.float64(1.0))], 'C0122': [('C0046', np.float64(1.0)), ('C0194', np.float64(1.0)), ('C0024', np.float64(1.0))], 'C0123': [('C0140', np.float64(1.0)), ('C0128', np.float64(1.0)), ('C0063', np.float64(1.0))], 'C0124': [('C0051', np.float64(1.0)), ('C0041', np.float64(1.0)), ('C0179', np.float64(1.0))], 'C0125': [('C0035', np.float64(1.0)), ('C0026', np.float64(1.0)), ('C0117', np.float64(1.0))], 'C0126': [('C0169', np.float64(1.0)), ('C0153', np.float64(1.0)), ('C0039', np.float64(1.0))], 'C0127': [('C0081', np.float64(1.0)), ('C0179', np.float64(1.0)), ('C0172', np.float64(1.0))], 'C0128': [('C0123', np.float64(1.0)), ('C0140', np.float64(1.0)), ('C0043', np.float64(1.0))], 'C0129': [('C0120', np.float64(1.0)), ('C0085', np.float64(1.0)), ('C0112', np.float64(1.0))], 'C0130': [('C0150', np.float64(1.0)), ('C0151', np.float64(1.0)), ('C0095', np.float64(1.0))], 'C0131': [('C0036', np.float64(1.0)), ('C0176', np.float64(1.0)), ('C0042', np.float64(1.0))], 'C0132': [('C0197', np.float64(1.0)), ('C0073', np.float64(1.0)), ('C0062', np.float64(1.0))], 'C0133': [('C0003', np.float64(1.0)), ('C0052', np.float64(1.0)), ('C0192', np.float64(1.0))], 'C0134': [('C0106', np.float64(1.0)), ('C0056', np.float64(1.0)), ('C0088', np.float64(1.0))], 'C0135': [('C0070', np.float64(1.0)), ('C0166', np.float64(1.0)), ('C0199', np.float64(1.0))], 'C0136': [('C0022', np.float64(1.0)), ('C0039', np.float64(1.0)), ('C0057', np.float64(1.0))], 'C0137': [('C0001', np.float64(1.0)), ('C0152', np.float64(1.0)), ('C0107', np.float64(1.0))], 'C0138': [('C0200', np.float64(1.0)), ('C0056', np.float64(1.0)), ('C0106', np.float64(1.0))], 'C0139': [('C0098', np.float64(1.0)), ('C0049', np.float64(1.0)), ('C0068', np.float64(1.0))], 'C0140': [('C0123', np.float64(1.0)), ('C0128', np.float64(1.0)), ('C0110', np.float64(1.0))], 'C0141': [('C0175', np.float64(1.0)), ('C0075', np.float64(1.0)), ('C0065', np.float64(1.0))], 'C0142': [('C0177', np.float64(1.0)), ('C0027', np.float64(1.0)), ('C0146', np.float64(1.0))], 'C0143': [('C0045', np.float64(1.0)), ('C0090', np.float64(1.0)), ('C0013', np.float64(1.0))], 'C0144': [('C0015', np.float64(1.0)), ('C0123', np.float64(1.0)), ('C0036', np.float64(1.0))], 'C0145': [('C0173', np.float64(1.0)), ('C0101', np.float64(1.0)), ('C0021', np.float64(1.0))], 'C0146': [('C0027', np.float64(1.0)), ('C0177', np.float64(1.0)), ('C0178', np.float64(1.0))], 'C0147': [('C0165', np.float64(1.0)), ('C0084', np.float64(1.0)), ('C0113', np.float64(1.0))], 'C0148': [('C0171', np.float64(1.0)), ('C0096', np.float64(1.0)), ('C0187', np.float64(1.0))], 'C0149': [('C0037', np.float64(1.0)), ('C0064', np.float64(1.0)), ('C0170', np.float64(1.0))], 'C0150': [('C0130', np.float64(1.0)), ('C0151', np.float64(1.0)), ('C0095', np.float64(1.0))], 'C0151': [('C0150', np.float64(1.0)), ('C0130', np.float64(1.0)), ('C0097', np.float64(1.0))], 'C0152': [('C0001', np.float64(1.0)), ('C0137', np.float64(1.0)), ('C0107', np.float64(1.0))], 'C0153': [('C0126', np.float64(1.0)), ('C0169', np.float64(1.0)), ('C0039', np.float64(1.0))], 'C0154': [('C0067', np.float64(1.0)), ('C0034', np.float64(1.0)), ('C0116', np.float64(1.0))], 'C0155': [('C0012', np.float64(1.0)), ('C0108', np.float64(1.0)), ('C0013', np.float64(1.0))], 'C0156': [('C0109', np.float64(1.0)), ('C0065', np.float64(1.0)), ('C0008', np.float64(1.0))], 'C0157': [('C0030', np.float64(1.0)), ('C0189', np.float64(1.0)), ('C0038', np.float64(1.0))], 'C0158': [('C0006', np.float64(1.0)), ('C0133', np.float64(1.0)), ('C0003', np.float64(1.0))], 'C0159': [('C0005', np.float64(1.0)), ('C0186', np.float64(1.0)), ('C0007', np.float64(1.0))], 'C0160': [('C0072', np.float64(1.0)), ('C0055', np.float64(1.0)), ('C0038', np.float64(1.0))], 'C0161': [('C0162', np.float64(1.0)), ('C0021', np.float64(1.0)), ('C0101', np.float64(1.0))], 'C0162': [('C0021', np.float64(1.0)), ('C0101', np.float64(1.0)), ('C0145', np.float64(1.0))], 'C0163': [('C0153', np.float64(1.0)), ('C0126', np.float64(1.0)), ('C0169', np.float64(1.0))], 'C0164': [('C0069', np.float64(1.0)), ('C0086', np.float64(1.0)), ('C0103', np.float64(1.0))], 'C0165': [('C0147', np.float64(1.0)), ('C0102', np.float64(1.0)), ('C0104', np.float64(1.0))], 'C0166': [('C0199', np.float64(1.0)), ('C0010', np.float64(1.0)), ('C0070', np.float64(1.0))], 'C0167': [('C0061', np.float64(1.0)), ('C0073', np.float64(1.0)), ('C0197', np.float64(1.0))], 'C0168': [('C0006', np.float64(1.0)), ('C0158', np.float64(1.0)), ('C0133', np.float64(1.0))], 'C0169': [('C0126', np.float64(1.0)), ('C0153', np.float64(1.0)), ('C0039', np.float64(1.0))], 'C0170': [('C0182', np.float64(1.0)), ('C0149', np.float64(1.0)), ('C0037', np.float64(1.0))], 'C0171': [('C0148', np.float64(1.0)), ('C0187', np.float64(1.0)), ('C0096', np.float64(1.0))], 'C0172': [('C0019', np.float64(1.0)), ('C0127', np.float64(1.0)), ('C0081', np.float64(1.0))], 'C0173': [('C0145', np.float64(1.0)), ('C0101', np.float64(1.0)), ('C0021', np.float64(1.0))], 'C0174': [('C0190', np.float64(1.0)), ('C0191', np.float64(1.0)), ('C0137', np.float64(1.0))], 'C0175': [('C0093', np.float64(1.0)), ('C0065', np.float64(1.0)), ('C0008', np.float64(1.0))], 'C0176': [('C0042', np.float64(1.0)), ('C0131', np.float64(1.0)), ('C0036', np.float64(1.0))], 'C0177': [('C0027', np.float64(1.0)), ('C0146', np.float64(1.0)), ('C0178', np.float64(1.0))], 'C0178': [('C0146', np.float64(1.0)), ('C0027', np.float64(1.0)), ('C0177', np.float64(1.0))], 'C0179': [('C0081', np.float64(1.0)), ('C0127', np.float64(1.0)), ('C0057', np.float64(1.0))], 'C0181': [('C0118', np.float64(1.0)), ('C0091', np.float64(1.0)), ('C0195', np.float64(1.0))], 'C0182': [('C0170', np.float64(1.0)), ('C0149', np.float64(1.0)), ('C0037', np.float64(1.0))], 'C0183': [('C0016', np.float64(1.0)), ('C0072', np.float64(1.0)), ('C0160', np.float64(1.0))], 'C0184': [('C0108', np.float64(1.0)), ('C0012', np.float64(1.0)), ('C0155', np.float64(1.0))], 'C0185': [('C0050', np.float64(1.0)), ('C0042', np.float64(1.0)), ('C0176', np.float64(1.0))], 'C0186': [('C0005', np.float64(1.0)), ('C0159', np.float64(1.0)), ('C0043', np.float64(1.0))], 'C0187': [('C0171', np.float64(1.0)), ('C0048', np.float64(1.0)), ('C0148', np.float64(1.0))], 'C0188': [('C0099', np.float64(1.0)), ('C0104', np.float64(1.0)), ('C0102', np.float64(1.0))], 'C0189': [('C0038', np.float64(1.0)), ('C0030', np.float64(1.0)), ('C0055', np.float64(1.0))], 'C0190': [('C0191', np.float64(1.0)), ('C0174', np.float64(1.0)), ('C0137', np.float64(1.0))], 'C0191': [('C0190', np.float64(1.0)), ('C0174', np.float64(1.0)), ('C0137', np.float64(1.0))], 'C0192': [('C0031', np.float64(1.0)), ('C0052', np.float64(1.0)), ('C0025', np.float64(1.0))], 'C0193': [('C0092', np.float64(1.0)), ('C0178', np.float64(1.0)), ('C0146', np.float64(1.0))], 'C0194': [('C0024', np.float64(1.0)), ('C0047', np.float64(1.0)), ('C0122', np.float64(1.0))], 'C0195': [('C0039', np.float64(1.0)), ('C0169', np.float64(1.0)), ('C0126', np.float64(1.0))], 'C0196': [('C0135', np.float64(1.0)), ('C0070', np.float64(1.0)), ('C0166', np.float64(1.0))], 'C0197': [('C0132', np.float64(1.0)), ('C0073', np.float64(1.0)), ('C0061', np.float64(1.0))], 'C0198': [('C0063', np.float64(1.0)), ('C0089', np.float64(1.0)), ('C0128', np.float64(1.0))], 'C0199': [('C0010', np.float64(1.0)), ('C0166', np.float64(1.0)), ('C0121', np.float64(1.0))], 'C0200': [('C0138', np.float64(1.0)), ('C0056', np.float64(1.0)), ('C0106', np.float64(1.0))]}\n"
     ]
    }
   ],
   "source": [
    "# Dictionary to store the results\n",
    "lookalike_results = {}\n",
    "\n",
    "# Iterate over each customer\n",
    "for i, customer_id in enumerate(customer_features['CustomerID']):\n",
    "    # Get the similarity scores for the customer\n",
    "    similar_customers = sorted(\n",
    "        list(enumerate(similarity_matrix[i])),\n",
    "        key=lambda x: -x[1]  # Sort by similarity score (descending)\n",
    "    )[1:4]  # Exclude self (first result) and take top 3\n",
    "\n",
    "    lookalike_results[customer_id] = [(customer_features['CustomerID'][j], round(score, 2)) \n",
    "                                      for j, score in similar_customers]\n",
    "\n",
    "# View the first 3 lookalikes as a check\n",
    "print(lookalike_results)\n"
   ]
  },
  {
   "cell_type": "code",
   "execution_count": 19,
   "metadata": {},
   "outputs": [
    {
     "name": "stdout",
     "output_type": "stream",
     "text": [
      "[['C0001', 'C0152', np.float64(1.0), 'C0137', np.float64(1.0), 'C0107', np.float64(1.0)], ['C0002', 'C0142', np.float64(1.0), 'C0177', np.float64(1.0), 'C0027', np.float64(1.0)], ['C0003', 'C0133', np.float64(1.0), 'C0052', np.float64(1.0), 'C0192', np.float64(1.0)]]\n"
     ]
    }
   ],
   "source": [
    "# Save lookalike results for the first 20 customers\n",
    "output = []\n",
    "for customer_id in customer_features['CustomerID'][:20]:  # First 20 customers\n",
    "    lookalikes = lookalike_results.get(customer_id, [])\n",
    "    row = [customer_id]\n",
    "    for similar_customer, score in lookalikes:\n",
    "        row.extend([similar_customer, score])\n",
    "    output.append(row)\n",
    "\n",
    "print(output[:3])  # View first few rows\n"
   ]
  },
  {
   "cell_type": "code",
   "execution_count": 20,
   "metadata": {},
   "outputs": [],
   "source": [
    "import csv\n",
    "\n",
    "# Save results to a CSV file\n",
    "with open('YourName_Lookalike.csv', mode='w', newline='') as file:\n",
    "    writer = csv.writer(file)\n",
    "    writer.writerow(['CustomerID', 'Lookalike1', 'Score1', 'Lookalike2', 'Score2', 'Lookalike3', 'Score3'])\n",
    "    writer.writerows(output)"
   ]
  }
 ],
 "metadata": {
  "kernelspec": {
   "display_name": "Python 3",
   "language": "python",
   "name": "python3"
  },
  "language_info": {
   "codemirror_mode": {
    "name": "ipython",
    "version": 3
   },
   "file_extension": ".py",
   "mimetype": "text/x-python",
   "name": "python",
   "nbconvert_exporter": "python",
   "pygments_lexer": "ipython3",
   "version": "3.11.9"
  }
 },
 "nbformat": 4,
 "nbformat_minor": 2
}
